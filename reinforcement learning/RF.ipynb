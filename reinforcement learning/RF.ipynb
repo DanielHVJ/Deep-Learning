{
 "cells": [
  {
   "cell_type": "code",
   "execution_count": 1,
   "metadata": {},
   "outputs": [],
   "source": [
    "import tensorflow as tf\n",
    "import numpy as np\n",
    "\n",
    "## https://awjuliani.medium.com/super-simple-reinforcement-learning-tutorial-part-1-fd544fab149"
   ]
  },
  {
   "cell_type": "code",
   "execution_count": 20,
   "metadata": {},
   "outputs": [
    {
     "data": {
      "text/plain": [
       "[4.2, -0.2, 0, -2.9]"
      ]
     },
     "execution_count": 20,
     "metadata": {},
     "output_type": "execute_result"
    }
   ],
   "source": [
    "\n",
    "#List out our bandits. Currently bandit 4 (index#3) is set to most often provide a positive reward.\n",
    "bandits = [4.2,-0.2, 0, -2.9]\n",
    "num_bandits = len(bandits)\n",
    "def pullBandit(bandit):\n",
    "    #Get a random number.\n",
    "    result = np.random.randn(1)\n",
    "    if result > bandit:\n",
    "        #return a positive reward.\n",
    "        return 1\n",
    "    else:\n",
    "        #return a negative reward.\n",
    "        return -1\n",
    "    \n",
    "bandits"
   ]
  },
  {
   "cell_type": "code",
   "execution_count": 7,
   "metadata": {},
   "outputs": [],
   "source": [
    "from tensorflow.python.framework import ops\n",
    "ops.reset_default_graph()\n",
    "# tf.reset_default_graph()\n",
    "\n",
    "import tensorflow.compat.v1 as v1\n",
    "v1.disable_v2_behavior() \n",
    "\n",
    "#These two lines established the feed-forward part of the network. This does the actual choosing.\n",
    "weights = tf.Variable(tf.ones([num_bandits]))\n",
    "chosen_action = tf.argmax(weights,0)\n",
    "\n",
    "#The next six lines establish the training proceedure. We feed the reward and chosen action into the network\n",
    "#to compute the loss, and use it to update the network.\n",
    "reward_holder = v1.placeholder(shape=[1],dtype=tf.float32)\n",
    "action_holder = v1.placeholder(shape=[1],dtype=tf.int32)\n",
    "responsible_weight = tf.slice(weights,action_holder,[1])\n",
    "loss = -(v1.log(responsible_weight)*reward_holder)\n",
    "optimizer = v1.train.GradientDescentOptimizer(learning_rate=0.001)\n",
    "update = optimizer.minimize(loss)"
   ]
  },
  {
   "cell_type": "code",
   "execution_count": 21,
   "metadata": {},
   "outputs": [
    {
     "name": "stdout",
     "output_type": "stream",
     "text": [
      "Running reward for the 4 bandits: [-1.  0.  0.  0.]\n",
      "Running reward for the 4 bandits: [-1.  1.  0. 47.]\n",
      "Running reward for the 4 bandits: [-2.  1.  0. 94.]\n",
      "Running reward for the 4 bandits: [ -2.   3.   0. 140.]\n",
      "Running reward for the 4 bandits: [ -2.   4.   5. 184.]\n",
      "Running reward for the 4 bandits: [ -6.   3.   6. 226.]\n",
      "Running reward for the 4 bandits: [ -8.   2.   6. 271.]\n",
      "Running reward for the 4 bandits: [-11.   2.   7. 317.]\n",
      "Running reward for the 4 bandits: [-12.   2.   6. 363.]\n",
      "Running reward for the 4 bandits: [-13.   3.   6. 407.]\n",
      "Running reward for the 4 bandits: [-16.   4.   6. 451.]\n",
      "Running reward for the 4 bandits: [-16.   4.   6. 497.]\n",
      "Running reward for the 4 bandits: [-19.   3.   6. 543.]\n",
      "Running reward for the 4 bandits: [-21.   3.   6. 589.]\n",
      "Running reward for the 4 bandits: [-22.   1.   8. 634.]\n",
      "Running reward for the 4 bandits: [-22.   0.   9. 682.]\n",
      "Running reward for the 4 bandits: [-24.  -1.   8. 726.]\n",
      "Running reward for the 4 bandits: [-25.   0.   8. 772.]\n",
      "Running reward for the 4 bandits: [-26.  -1.   8. 818.]\n",
      "Running reward for the 4 bandits: [-28.  -2.   8. 865.]\n",
      "The agent thinks bandit 4 is the most promising....\n",
      "...and it was right!\n"
     ]
    }
   ],
   "source": [
    "total_episodes = 1000 #Set total number of episodes to train agent on.\n",
    "total_reward = np.zeros(num_bandits) #Set scoreboard for bandits to 0.\n",
    "e = 0.1 #Set the chance of taking a random action.\n",
    "\n",
    "init = v1.initialize_all_variables()\n",
    "\n",
    "# Launch the tensorflow graph\n",
    "with v1.Session() as sess:\n",
    "    sess.run(init)\n",
    "    i = 0\n",
    "    while i < total_episodes:\n",
    "        \n",
    "        #Choose either a random action or one from our network.\n",
    "        if np.random.rand(1) < e:\n",
    "            action = np.random.randint(num_bandits)\n",
    "        else:\n",
    "            action = sess.run(chosen_action)\n",
    "        \n",
    "        reward = pullBandit(bandits[action]) #Get our reward from picking one of the bandits.\n",
    "        \n",
    "        #Update the network.\n",
    "        _,resp,ww = sess.run([update,responsible_weight,weights], feed_dict={reward_holder:[reward],action_holder:[action]})\n",
    "        \n",
    "        #Update our running tally of scores.\n",
    "        total_reward[action] += reward\n",
    "        if i % 50 == 0:\n",
    "            print(\"Running reward for the \" + str(num_bandits) + \" bandits: \" + str(total_reward))\n",
    "        i+=1\n",
    "print(\"The agent thinks bandit \" + str(np.argmax(ww)+1) + \" is the most promising....\")\n",
    "if np.argmax(ww) == np.argmax(-np.array(bandits)):\n",
    "    print(\"...and it was right!\")\n",
    "else:\n",
    "    print(\"...and it was wrong!\")"
   ]
  },
  {
   "cell_type": "code",
   "execution_count": null,
   "metadata": {},
   "outputs": [],
   "source": []
  }
 ],
 "metadata": {
  "kernelspec": {
   "display_name": "Python 3.8.5 64-bit ('deep': conda)",
   "language": "python",
   "name": "python38564bitdeepconda1f145d0de5544abc80c383a418c49c62"
  },
  "language_info": {
   "codemirror_mode": {
    "name": "ipython",
    "version": 3
   },
   "file_extension": ".py",
   "mimetype": "text/x-python",
   "name": "python",
   "nbconvert_exporter": "python",
   "pygments_lexer": "ipython3",
   "version": "3.8.5"
  }
 },
 "nbformat": 4,
 "nbformat_minor": 4
}
